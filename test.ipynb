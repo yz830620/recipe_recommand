{
 "cells": [
  {
   "cell_type": "code",
   "execution_count": 15,
   "metadata": {},
   "outputs": [
    {
     "name": "stderr",
     "output_type": "stream",
     "text": [
      "  % Total    % Received % Xferd  Average Speed   Time    Time     Time  Current\n",
      "                                 Dload  Upload   Total   Spent    Left  Speed\n",
      "\n",
      "  0     0    0     0    0     0      0      0 --:--:-- --:--:-- --:--:--     0\n",
      "100    20  100    20    0     0     20      0  0:00:01 --:--:--  0:00:01    37\n"
     ]
    }
   ],
   "source": [
    "!curl -O http://openrecipes.s3.amazonaws.com/recipeitems-latest.json.gz"
   ]
  },
  {
   "cell_type": "code",
   "execution_count": 18,
   "metadata": {},
   "outputs": [
    {
     "name": "stderr",
     "output_type": "stream",
     "text": [
      "'gunzip' ���O�����Υ~���R�O�B�i���檺�{���Χ妸�ɡC\n"
     ]
    }
   ],
   "source": [
    "!gunzip recipeitems-latest.json.gz"
   ]
  },
  {
   "cell_type": "code",
   "execution_count": 20,
   "metadata": {},
   "outputs": [],
   "source": [
    "import pandas as pd\n",
    "recipes = pd.read_json('recipeitems-latest.json',lines=True)"
   ]
  },
  {
   "cell_type": "code",
   "execution_count": 21,
   "metadata": {},
   "outputs": [
    {
     "data": {
      "text/html": [
       "<div>\n",
       "<style scoped>\n",
       "    .dataframe tbody tr th:only-of-type {\n",
       "        vertical-align: middle;\n",
       "    }\n",
       "\n",
       "    .dataframe tbody tr th {\n",
       "        vertical-align: top;\n",
       "    }\n",
       "\n",
       "    .dataframe thead th {\n",
       "        text-align: right;\n",
       "    }\n",
       "</style>\n",
       "<table border=\"1\" class=\"dataframe\">\n",
       "  <thead>\n",
       "    <tr style=\"text-align: right;\">\n",
       "      <th></th>\n",
       "      <th>_id</th>\n",
       "      <th>name</th>\n",
       "      <th>ingredients</th>\n",
       "      <th>url</th>\n",
       "      <th>image</th>\n",
       "      <th>ts</th>\n",
       "      <th>cookTime</th>\n",
       "      <th>source</th>\n",
       "      <th>recipeYield</th>\n",
       "      <th>datePublished</th>\n",
       "      <th>prepTime</th>\n",
       "      <th>description</th>\n",
       "      <th>totalTime</th>\n",
       "      <th>creator</th>\n",
       "      <th>recipeCategory</th>\n",
       "      <th>dateModified</th>\n",
       "      <th>recipeInstructions</th>\n",
       "    </tr>\n",
       "  </thead>\n",
       "  <tbody>\n",
       "    <tr>\n",
       "      <th>0</th>\n",
       "      <td>{'$oid': '5160756b96cc62079cc2db15'}</td>\n",
       "      <td>Drop Biscuits and Sausage Gravy</td>\n",
       "      <td>Biscuits\\n3 cups All-purpose Flour\\n2 Tablespo...</td>\n",
       "      <td>http://thepioneerwoman.com/cooking/2013/03/dro...</td>\n",
       "      <td>http://static.thepioneerwoman.com/cooking/file...</td>\n",
       "      <td>{'$date': 1365276011104}</td>\n",
       "      <td>PT30M</td>\n",
       "      <td>thepioneerwoman</td>\n",
       "      <td>12</td>\n",
       "      <td>2013-03-11</td>\n",
       "      <td>PT10M</td>\n",
       "      <td>Late Saturday afternoon, after Marlboro Man ha...</td>\n",
       "      <td>NaN</td>\n",
       "      <td>NaN</td>\n",
       "      <td>NaN</td>\n",
       "      <td>NaN</td>\n",
       "      <td>NaN</td>\n",
       "    </tr>\n",
       "    <tr>\n",
       "      <th>1</th>\n",
       "      <td>{'$oid': '5160756d96cc62079cc2db16'}</td>\n",
       "      <td>Hot Roast Beef Sandwiches</td>\n",
       "      <td>12 whole Dinner Rolls Or Small Sandwich Buns (...</td>\n",
       "      <td>http://thepioneerwoman.com/cooking/2013/03/hot...</td>\n",
       "      <td>http://static.thepioneerwoman.com/cooking/file...</td>\n",
       "      <td>{'$date': 1365276013902}</td>\n",
       "      <td>PT20M</td>\n",
       "      <td>thepioneerwoman</td>\n",
       "      <td>12</td>\n",
       "      <td>2013-03-13</td>\n",
       "      <td>PT20M</td>\n",
       "      <td>When I was growing up, I participated in my Ep...</td>\n",
       "      <td>NaN</td>\n",
       "      <td>NaN</td>\n",
       "      <td>NaN</td>\n",
       "      <td>NaN</td>\n",
       "      <td>NaN</td>\n",
       "    </tr>\n",
       "    <tr>\n",
       "      <th>2</th>\n",
       "      <td>{'$oid': '5160756f96cc6207a37ff777'}</td>\n",
       "      <td>Morrocan Carrot and Chickpea Salad</td>\n",
       "      <td>Dressing:\\n1 tablespoon cumin seeds\\n1/3 cup /...</td>\n",
       "      <td>http://www.101cookbooks.com/archives/moroccan-...</td>\n",
       "      <td>http://www.101cookbooks.com/mt-static/images/f...</td>\n",
       "      <td>{'$date': 1365276015332}</td>\n",
       "      <td>NaN</td>\n",
       "      <td>101cookbooks</td>\n",
       "      <td>NaN</td>\n",
       "      <td>2013-01-07</td>\n",
       "      <td>PT15M</td>\n",
       "      <td>A beauty of a carrot salad - tricked out with ...</td>\n",
       "      <td>NaN</td>\n",
       "      <td>NaN</td>\n",
       "      <td>NaN</td>\n",
       "      <td>NaN</td>\n",
       "      <td>NaN</td>\n",
       "    </tr>\n",
       "    <tr>\n",
       "      <th>3</th>\n",
       "      <td>{'$oid': '5160757096cc62079cc2db17'}</td>\n",
       "      <td>Mixed Berry Shortcake</td>\n",
       "      <td>Biscuits\\n3 cups All-purpose Flour\\n2 Tablespo...</td>\n",
       "      <td>http://thepioneerwoman.com/cooking/2013/03/mix...</td>\n",
       "      <td>http://static.thepioneerwoman.com/cooking/file...</td>\n",
       "      <td>{'$date': 1365276016700}</td>\n",
       "      <td>PT15M</td>\n",
       "      <td>thepioneerwoman</td>\n",
       "      <td>8</td>\n",
       "      <td>2013-03-18</td>\n",
       "      <td>PT15M</td>\n",
       "      <td>It's Monday! It's a brand new week! The birds ...</td>\n",
       "      <td>NaN</td>\n",
       "      <td>NaN</td>\n",
       "      <td>NaN</td>\n",
       "      <td>NaN</td>\n",
       "      <td>NaN</td>\n",
       "    </tr>\n",
       "    <tr>\n",
       "      <th>4</th>\n",
       "      <td>{'$oid': '5160757496cc6207a37ff778'}</td>\n",
       "      <td>Pomegranate Yogurt Bowl</td>\n",
       "      <td>For each bowl: \\na big dollop of Greek yogurt\\...</td>\n",
       "      <td>http://www.101cookbooks.com/archives/pomegrana...</td>\n",
       "      <td>http://www.101cookbooks.com/mt-static/images/f...</td>\n",
       "      <td>{'$date': 1365276020318}</td>\n",
       "      <td>NaN</td>\n",
       "      <td>101cookbooks</td>\n",
       "      <td>Serves 1.</td>\n",
       "      <td>2013-01-20</td>\n",
       "      <td>PT5M</td>\n",
       "      <td>A simple breakfast bowl made with Greek yogurt...</td>\n",
       "      <td>NaN</td>\n",
       "      <td>NaN</td>\n",
       "      <td>NaN</td>\n",
       "      <td>NaN</td>\n",
       "      <td>NaN</td>\n",
       "    </tr>\n",
       "  </tbody>\n",
       "</table>\n",
       "</div>"
      ],
      "text/plain": [
       "                                    _id                                name  \\\n",
       "0  {'$oid': '5160756b96cc62079cc2db15'}     Drop Biscuits and Sausage Gravy   \n",
       "1  {'$oid': '5160756d96cc62079cc2db16'}           Hot Roast Beef Sandwiches   \n",
       "2  {'$oid': '5160756f96cc6207a37ff777'}  Morrocan Carrot and Chickpea Salad   \n",
       "3  {'$oid': '5160757096cc62079cc2db17'}               Mixed Berry Shortcake   \n",
       "4  {'$oid': '5160757496cc6207a37ff778'}             Pomegranate Yogurt Bowl   \n",
       "\n",
       "                                         ingredients  \\\n",
       "0  Biscuits\\n3 cups All-purpose Flour\\n2 Tablespo...   \n",
       "1  12 whole Dinner Rolls Or Small Sandwich Buns (...   \n",
       "2  Dressing:\\n1 tablespoon cumin seeds\\n1/3 cup /...   \n",
       "3  Biscuits\\n3 cups All-purpose Flour\\n2 Tablespo...   \n",
       "4  For each bowl: \\na big dollop of Greek yogurt\\...   \n",
       "\n",
       "                                                 url  \\\n",
       "0  http://thepioneerwoman.com/cooking/2013/03/dro...   \n",
       "1  http://thepioneerwoman.com/cooking/2013/03/hot...   \n",
       "2  http://www.101cookbooks.com/archives/moroccan-...   \n",
       "3  http://thepioneerwoman.com/cooking/2013/03/mix...   \n",
       "4  http://www.101cookbooks.com/archives/pomegrana...   \n",
       "\n",
       "                                               image  \\\n",
       "0  http://static.thepioneerwoman.com/cooking/file...   \n",
       "1  http://static.thepioneerwoman.com/cooking/file...   \n",
       "2  http://www.101cookbooks.com/mt-static/images/f...   \n",
       "3  http://static.thepioneerwoman.com/cooking/file...   \n",
       "4  http://www.101cookbooks.com/mt-static/images/f...   \n",
       "\n",
       "                         ts cookTime           source recipeYield  \\\n",
       "0  {'$date': 1365276011104}    PT30M  thepioneerwoman          12   \n",
       "1  {'$date': 1365276013902}    PT20M  thepioneerwoman          12   \n",
       "2  {'$date': 1365276015332}      NaN     101cookbooks         NaN   \n",
       "3  {'$date': 1365276016700}    PT15M  thepioneerwoman           8   \n",
       "4  {'$date': 1365276020318}      NaN     101cookbooks   Serves 1.   \n",
       "\n",
       "  datePublished prepTime                                        description  \\\n",
       "0    2013-03-11    PT10M  Late Saturday afternoon, after Marlboro Man ha...   \n",
       "1    2013-03-13    PT20M  When I was growing up, I participated in my Ep...   \n",
       "2    2013-01-07    PT15M  A beauty of a carrot salad - tricked out with ...   \n",
       "3    2013-03-18    PT15M  It's Monday! It's a brand new week! The birds ...   \n",
       "4    2013-01-20     PT5M  A simple breakfast bowl made with Greek yogurt...   \n",
       "\n",
       "  totalTime creator recipeCategory dateModified recipeInstructions  \n",
       "0       NaN     NaN            NaN          NaN                NaN  \n",
       "1       NaN     NaN            NaN          NaN                NaN  \n",
       "2       NaN     NaN            NaN          NaN                NaN  \n",
       "3       NaN     NaN            NaN          NaN                NaN  \n",
       "4       NaN     NaN            NaN          NaN                NaN  "
      ]
     },
     "execution_count": 21,
     "metadata": {},
     "output_type": "execute_result"
    }
   ],
   "source": [
    "recipes.head()"
   ]
  },
  {
   "cell_type": "code",
   "execution_count": 22,
   "metadata": {},
   "outputs": [
    {
     "data": {
      "text/plain": [
       "(173278, 17)"
      ]
     },
     "execution_count": 22,
     "metadata": {},
     "output_type": "execute_result"
    }
   ],
   "source": [
    "recipes.shape"
   ]
  },
  {
   "cell_type": "code",
   "execution_count": 23,
   "metadata": {},
   "outputs": [
    {
     "data": {
      "text/plain": [
       "count    173278.000000\n",
       "mean        244.617926\n",
       "std         146.705285\n",
       "min           0.000000\n",
       "25%         147.000000\n",
       "50%         221.000000\n",
       "75%         314.000000\n",
       "max        9067.000000\n",
       "Name: ingredients, dtype: float64"
      ]
     },
     "execution_count": 23,
     "metadata": {},
     "output_type": "execute_result"
    }
   ],
   "source": [
    "recipes.ingredients.str.len().describe()"
   ]
  },
  {
   "cell_type": "code",
   "execution_count": 26,
   "metadata": {},
   "outputs": [
    {
     "data": {
      "text/plain": [
       "'1 cup carrot juice2 cups (280 g) all purpose flour1/2 cup (65 g) almond meal or almond flour1 tablespoon baking powder1 teaspoon baking soda3/4 teaspoon fine sea salt1 teaspoon ground cinnamon1/2 teaspoon ground ginger1/2 teaspoon ground nutmeg1/4 teaspoon ground allspice1/4 teaspoon ground cloves1/4 teaspoon ground cardamom1/4 teaspoon fresh ground black pepper2 cups (400 g) white granulated sugar3/4 cup (175 mL) neutral flavored cooking oil (like sunflower)1 lbs (450 g) carrots, finely freshly grated1 cup (160 g) finely chopped fresh pineapple3 large eggs2 teaspoon vanilla extract1/2 teaspoon almond extract\\n2 cups (280 g) all purpose flour1/2 cup (65 g) almond meal or almond flour1 tablespoon baking powder1 teaspoon baking soda3/4 teaspoon fine sea salt1 teaspoon ground cinnamon1/2 teaspoon ground ginger1/2 teaspoon ground nutmeg1/4 teaspoon ground allspice1/4 teaspoon ground cloves1/4 teaspoon ground cardamom1/4 teaspoon fresh ground black pepper2 cups (400 g) white granulated sugar3/4 cup (175 mL) neutral flavored cooking oil (like sunflower)1 lbs (450 g) carrots, finely freshly grated1 cup (160 g) finely chopped fresh pineapple3 large eggs2 teaspoon vanilla extract1/2 teaspoon almond extract\\n1/2 cup (65 g) almond meal or almond flour1 tablespoon baking powder1 teaspoon baking soda3/4 teaspoon fine sea salt1 teaspoon ground cinnamon1/2 teaspoon ground ginger1/2 teaspoon ground nutmeg1/4 teaspoon ground allspice1/4 teaspoon ground cloves1/4 teaspoon ground cardamom1/4 teaspoon fresh ground black pepper2 cups (400 g) white granulated sugar3/4 cup (175 mL) neutral flavored cooking oil (like sunflower)1 lbs (450 g) carrots, finely freshly grated1 cup (160 g) finely chopped fresh pineapple3 large eggs2 teaspoon vanilla extract1/2 teaspoon almond extract\\n1 tablespoon baking powder1 teaspoon baking soda3/4 teaspoon fine sea salt1 teaspoon ground cinnamon1/2 teaspoon ground ginger1/2 teaspoon ground nutmeg1/4 teaspoon ground allspice1/4 teaspoon ground cloves1/4 teaspoon ground cardamom1/4 teaspoon fresh ground black pepper2 cups (400 g) white granulated sugar3/4 cup (175 mL) neutral flavored cooking oil (like sunflower)1 lbs (450 g) carrots, finely freshly grated1 cup (160 g) finely chopped fresh pineapple3 large eggs2 teaspoon vanilla extract1/2 teaspoon almond extract\\n1 teaspoon baking soda3/4 teaspoon fine sea salt1 teaspoon ground cinnamon1/2 teaspoon ground ginger1/2 teaspoon ground nutmeg1/4 teaspoon ground allspice1/4 teaspoon ground cloves1/4 teaspoon ground cardamom1/4 teaspoon fresh ground black pepper2 cups (400 g) white granulated sugar3/4 cup (175 mL) neutral flavored cooking oil (like sunflower)1 lbs (450 g) carrots, finely freshly grated1 cup (160 g) finely chopped fresh pineapple3 large eggs2 teaspoon vanilla extract1/2 teaspoon almond extract\\n3/4 teaspoon fine sea salt1 teaspoon ground cinnamon1/2 teaspoon ground ginger1/2 teaspoon ground nutmeg1/4 teaspoon ground allspice1/4 teaspoon ground cloves1/4 teaspoon ground cardamom1/4 teaspoon fresh ground black pepper2 cups (400 g) white granulated sugar3/4 cup (175 mL) neutral flavored cooking oil (like sunflower)1 lbs (450 g) carrots, finely freshly grated1 cup (160 g) finely chopped fresh pineapple3 large eggs2 teaspoon vanilla extract1/2 teaspoon almond extract\\n1 teaspoon ground cinnamon1/2 teaspoon ground ginger1/2 teaspoon ground nutmeg1/4 teaspoon ground allspice1/4 teaspoon ground cloves1/4 teaspoon ground cardamom1/4 teaspoon fresh ground black pepper2 cups (400 g) white granulated sugar3/4 cup (175 mL) neutral flavored cooking oil (like sunflower)1 lbs (450 g) carrots, finely freshly grated1 cup (160 g) finely chopped fresh pineapple3 large eggs2 teaspoon vanilla extract1/2 teaspoon almond extract\\n1/2 teaspoon ground ginger1/2 teaspoon ground nutmeg1/4 teaspoon ground allspice1/4 teaspoon ground cloves1/4 teaspoon ground cardamom1/4 teaspoon fresh ground black pepper2 cups (400 g) white granulated sugar3/4 cup (175 mL) neutral flavored cooking oil (like sunflower)1 lbs (450 g) carrots, finely freshly grated1 cup (160 g) finely chopped fresh pineapple3 large eggs2 teaspoon vanilla extract1/2 teaspoon almond extract\\n1/2 teaspoon ground nutmeg1/4 teaspoon ground allspice1/4 teaspoon ground cloves1/4 teaspoon ground cardamom1/4 teaspoon fresh ground black pepper2 cups (400 g) white granulated sugar3/4 cup (175 mL) neutral flavored cooking oil (like sunflower)1 lbs (450 g) carrots, finely freshly grated1 cup (160 g) finely chopped fresh pineapple3 large eggs2 teaspoon vanilla extract1/2 teaspoon almond extract\\n1/4 teaspoon ground allspice1/4 teaspoon ground cloves1/4 teaspoon ground cardamom1/4 teaspoon fresh ground black pepper2 cups (400 g) white granulated sugar3/4 cup (175 mL) neutral flavored cooking oil (like sunflower)1 lbs (450 g) carrots, finely freshly grated1 cup (160 g) finely chopped fresh pineapple3 large eggs2 teaspoon vanilla extract1/2 teaspoon almond extract\\n1/4 teaspoon ground cloves1/4 teaspoon ground cardamom1/4 teaspoon fresh ground black pepper2 cups (400 g) white granulated sugar3/4 cup (175 mL) neutral flavored cooking oil (like sunflower)1 lbs (450 g) carrots, finely freshly grated1 cup (160 g) finely chopped fresh pineapple3 large eggs2 teaspoon vanilla extract1/2 teaspoon almond extract\\n1/4 teaspoon ground cardamom1/4 teaspoon fresh ground black pepper2 cups (400 g) white granulated sugar3/4 cup (175 mL) neutral flavored cooking oil (like sunflower)1 lbs (450 g) carrots, finely freshly grated1 cup (160 g) finely chopped fresh pineapple3 large eggs2 teaspoon vanilla extract1/2 teaspoon almond extract\\n1/4 teaspoon fresh ground black pepper2 cups (400 g) white granulated sugar3/4 cup (175 mL) neutral flavored cooking oil (like sunflower)1 lbs (450 g) carrots, finely freshly grated1 cup (160 g) finely chopped fresh pineapple3 large eggs2 teaspoon vanilla extract1/2 teaspoon almond extract\\n2 cups (400 g) white granulated sugar3/4 cup (175 mL) neutral flavored cooking oil (like sunflower)1 lbs (450 g) carrots, finely freshly grated1 cup (160 g) finely chopped fresh pineapple3 large eggs2 teaspoon vanilla extract1/2 teaspoon almond extract\\n3/4 cup (175 mL) neutral flavored cooking oil (like sunflower)1 lbs (450 g) carrots, finely freshly grated1 cup (160 g) finely chopped fresh pineapple3 large eggs2 teaspoon vanilla extract1/2 teaspoon almond extract\\n1 lbs (450 g) carrots, finely freshly grated1 cup (160 g) finely chopped fresh pineapple3 large eggs2 teaspoon vanilla extract1/2 teaspoon almond extract\\n1 cup (160 g) finely chopped fresh pineapple3 large eggs2 teaspoon vanilla extract1/2 teaspoon almond extract\\n3 large eggs2 teaspoon vanilla extract1/2 teaspoon almond extract\\n2 teaspoon vanilla extract1/2 teaspoon almond extract\\n1/2 teaspoon almond extract\\n2 oz (57 g) unsweetened chocolate4 oz (115 g) semisweet chocolate1/2 cup (113 g or 1 stick) unsalted butter3/4 cup (105 g) all purpose flour1/2 teaspoon baking powder1/4 teaspoon sea salt3/4 cup (150 g) granulated white sugar3 large eggs2 teaspoon vanilla extract\\n4 oz (115 g) semisweet chocolate1/2 cup (113 g or 1 stick) unsalted butter3/4 cup (105 g) all purpose flour1/2 teaspoon baking powder1/4 teaspoon sea salt3/4 cup (150 g) granulated white sugar3 large eggs2 teaspoon vanilla extract\\n1/2 cup (113 g or 1 stick) unsalted butter3/4 cup (105 g) all purpose flour1/2 teaspoon baking powder1/4 teaspoon sea salt3/4 cup (150 g) granulated white sugar3 large eggs2 teaspoon vanilla extract\\n3/4 cup (105 g) all purpose flour1/2 teaspoon baking powder1/4 teaspoon sea salt3/4 cup (150 g) granulated white sugar3 large eggs2 teaspoon vanilla extract\\n1/2 teaspoon baking powder1/4 teaspoon sea salt3/4 cup (150 g) granulated white sugar3 large eggs2 teaspoon vanilla extract\\n1/4 teaspoon sea salt3/4 cup (150 g) granulated white sugar3 large eggs2 teaspoon vanilla extract\\n3/4 cup (150 g) granulated white sugar3 large eggs2 teaspoon vanilla extract\\n3 large eggs2 teaspoon vanilla extract\\n2 teaspoon vanilla extract\\n2 cups (475 mL) heavy whipping cream, cold24 oz (3 bricks) full fat cream cheese1 teaspoon vanilla extract1 vanilla bean1 1/2 cup (175 g) confectioners’ sugar (powdered sugar)\\n24 oz (3 bricks) full fat cream cheese1 teaspoon vanilla extract1 vanilla bean1 1/2 cup (175 g) confectioners’ sugar (powdered sugar)\\n1 teaspoon vanilla extract1 vanilla bean1 1/2 cup (175 g) confectioners’ sugar (powdered sugar)\\n1 vanilla bean1 1/2 cup (175 g) confectioners’ sugar (powdered sugar)\\n1 1/2 cup (175 g) confectioners’ sugar (powdered sugar)\\n57 g (2 oz) almond paste1 tablespoon light corn syrup85 g to 115 g (3/4 to 1 cup) confectioners’ sugar (powdered sugar)red, yellow and green gel food colorinh\\n1 tablespoon light corn syrup85 g to 115 g (3/4 to 1 cup) confectioners’ sugar (powdered sugar)red, yellow and green gel food colorinh\\n85 g to 115 g (3/4 to 1 cup) confectioners’ sugar (powdered sugar)red, yellow and green gel food colorinh\\nred, yellow and green gel food colorinh\\n1/2 cup unsweetened shredded coconutgreen and yellow liquid food coloring\\ngreen and yellow liquid food coloring'"
      ]
     },
     "execution_count": 26,
     "metadata": {},
     "output_type": "execute_result"
    }
   ],
   "source": [
    "import numpy as np\n",
    "recipes.ingredients[np.argmax(recipes.ingredients.str.len())]"
   ]
  },
  {
   "cell_type": "code",
   "execution_count": 27,
   "metadata": {},
   "outputs": [
    {
     "data": {
      "text/plain": [
       "3524"
      ]
     },
     "execution_count": 27,
     "metadata": {},
     "output_type": "execute_result"
    }
   ],
   "source": [
    "recipes.description.str.contains('[Bb]reakfast').sum()"
   ]
  },
  {
   "cell_type": "code",
   "execution_count": 28,
   "metadata": {},
   "outputs": [
    {
     "data": {
      "text/plain": [
       "2350"
      ]
     },
     "execution_count": 28,
     "metadata": {},
     "output_type": "execute_result"
    }
   ],
   "source": [
    "recipes.description.str.contains('[Ll]unch').sum()"
   ]
  },
  {
   "cell_type": "code",
   "execution_count": 29,
   "metadata": {},
   "outputs": [
    {
     "data": {
      "text/plain": [
       "5211"
      ]
     },
     "execution_count": 29,
     "metadata": {},
     "output_type": "execute_result"
    }
   ],
   "source": [
    "recipes.description.str.contains('[Dd]inner').sum()"
   ]
  },
  {
   "cell_type": "code",
   "execution_count": 30,
   "metadata": {},
   "outputs": [
    {
     "data": {
      "text/plain": [
       "3036"
      ]
     },
     "execution_count": 30,
     "metadata": {},
     "output_type": "execute_result"
    }
   ],
   "source": [
    "recipes.description.str.contains('[Ss]nack').sum()"
   ]
  },
  {
   "cell_type": "code",
   "execution_count": 31,
   "metadata": {},
   "outputs": [
    {
     "data": {
      "text/plain": [
       "4609"
      ]
     },
     "execution_count": 31,
     "metadata": {},
     "output_type": "execute_result"
    }
   ],
   "source": [
    "recipes.description.str.contains('[Aa]pple').sum()"
   ]
  },
  {
   "cell_type": "code",
   "execution_count": 61,
   "metadata": {},
   "outputs": [
    {
     "data": {
      "text/plain": [
       "371       Eating blistered Padron or shishito peppers is...\n",
       "2182      A perfect blend of the sweetness of plantains ...\n",
       "5397      This grilled shishito peppers recipe is sprink...\n",
       "8339      A perfect blend of the sweetness of plantains ...\n",
       "45697     A slightly spicy snack of Shishito peppers, al...\n",
       "89392     \"This is an authentic, 'home-style' dish serve...\n",
       "112471    \"These mac &amp; cheese cups with shitake mush...\n",
       "115008    \"This is a wonderful kabob for fall grilling, ...\n",
       "115040    \"A delicious broth-based soup that can be modi...\n",
       "127886    \"This side is a great earthy compliment to any...\n",
       "154056    Find the recipe for Roasted Shitake, Portobell...\n",
       "157919    Rice paper wrappers, available dried from Asia...\n",
       "Name: description, dtype: object"
      ]
     },
     "execution_count": 61,
     "metadata": {},
     "output_type": "execute_result"
    }
   ],
   "source": [
    "recipes_with_shit = recipes.description[recipes.description.str.contains('[Ss]hit')==True]\n",
    "recipes_with_shit"
   ]
  },
  {
   "cell_type": "code",
   "execution_count": 47,
   "metadata": {},
   "outputs": [
    {
     "data": {
      "text/plain": [
       "10526"
      ]
     },
     "execution_count": 47,
     "metadata": {},
     "output_type": "execute_result"
    }
   ],
   "source": [
    "recipes.ingredients.str.contains('[Cc]innamon').sum()"
   ]
  },
  {
   "cell_type": "code",
   "execution_count": 49,
   "metadata": {},
   "outputs": [
    {
     "data": {
      "text/plain": [
       "11"
      ]
     },
     "execution_count": 49,
     "metadata": {},
     "output_type": "execute_result"
    }
   ],
   "source": [
    "recipes.ingredients.str.contains('[Cc]inamon').sum()"
   ]
  },
  {
   "cell_type": "code",
   "execution_count": 48,
   "metadata": {},
   "outputs": [
    {
     "data": {
      "text/plain": [
       "8164"
      ]
     },
     "execution_count": 48,
     "metadata": {},
     "output_type": "execute_result"
    }
   ],
   "source": [
    "recipes.ingredients.str.contains('[Aa]pple').sum()"
   ]
  },
  {
   "cell_type": "code",
   "execution_count": 50,
   "metadata": {},
   "outputs": [],
   "source": [
    "spice_list = ['salt', 'pepper', 'oregano', 'sage', 'parsley', 'rosemary', 'tarragon', 'thyme', 'paprika', 'cumin']"
   ]
  },
  {
   "cell_type": "code",
   "execution_count": 52,
   "metadata": {},
   "outputs": [],
   "source": [
    "import re\n",
    "spice_df = pd.DataFrame(dict((spice, recipes.ingredients.str.contains(spice, re.IGNORECASE)) for spice in spice_list))"
   ]
  },
  {
   "cell_type": "code",
   "execution_count": 53,
   "metadata": {},
   "outputs": [
    {
     "data": {
      "text/html": [
       "<div>\n",
       "<style scoped>\n",
       "    .dataframe tbody tr th:only-of-type {\n",
       "        vertical-align: middle;\n",
       "    }\n",
       "\n",
       "    .dataframe tbody tr th {\n",
       "        vertical-align: top;\n",
       "    }\n",
       "\n",
       "    .dataframe thead th {\n",
       "        text-align: right;\n",
       "    }\n",
       "</style>\n",
       "<table border=\"1\" class=\"dataframe\">\n",
       "  <thead>\n",
       "    <tr style=\"text-align: right;\">\n",
       "      <th></th>\n",
       "      <th>salt</th>\n",
       "      <th>pepper</th>\n",
       "      <th>oregano</th>\n",
       "      <th>sage</th>\n",
       "      <th>parsley</th>\n",
       "      <th>rosemary</th>\n",
       "      <th>tarragon</th>\n",
       "      <th>thyme</th>\n",
       "      <th>paprika</th>\n",
       "      <th>cumin</th>\n",
       "    </tr>\n",
       "  </thead>\n",
       "  <tbody>\n",
       "    <tr>\n",
       "      <th>0</th>\n",
       "      <td>False</td>\n",
       "      <td>False</td>\n",
       "      <td>False</td>\n",
       "      <td>True</td>\n",
       "      <td>False</td>\n",
       "      <td>False</td>\n",
       "      <td>False</td>\n",
       "      <td>False</td>\n",
       "      <td>False</td>\n",
       "      <td>False</td>\n",
       "    </tr>\n",
       "    <tr>\n",
       "      <th>1</th>\n",
       "      <td>False</td>\n",
       "      <td>False</td>\n",
       "      <td>False</td>\n",
       "      <td>False</td>\n",
       "      <td>False</td>\n",
       "      <td>False</td>\n",
       "      <td>False</td>\n",
       "      <td>False</td>\n",
       "      <td>False</td>\n",
       "      <td>False</td>\n",
       "    </tr>\n",
       "    <tr>\n",
       "      <th>2</th>\n",
       "      <td>True</td>\n",
       "      <td>True</td>\n",
       "      <td>False</td>\n",
       "      <td>False</td>\n",
       "      <td>False</td>\n",
       "      <td>False</td>\n",
       "      <td>False</td>\n",
       "      <td>False</td>\n",
       "      <td>False</td>\n",
       "      <td>True</td>\n",
       "    </tr>\n",
       "    <tr>\n",
       "      <th>3</th>\n",
       "      <td>False</td>\n",
       "      <td>False</td>\n",
       "      <td>False</td>\n",
       "      <td>False</td>\n",
       "      <td>False</td>\n",
       "      <td>False</td>\n",
       "      <td>False</td>\n",
       "      <td>False</td>\n",
       "      <td>False</td>\n",
       "      <td>False</td>\n",
       "    </tr>\n",
       "    <tr>\n",
       "      <th>4</th>\n",
       "      <td>False</td>\n",
       "      <td>False</td>\n",
       "      <td>False</td>\n",
       "      <td>False</td>\n",
       "      <td>False</td>\n",
       "      <td>False</td>\n",
       "      <td>False</td>\n",
       "      <td>False</td>\n",
       "      <td>False</td>\n",
       "      <td>False</td>\n",
       "    </tr>\n",
       "    <tr>\n",
       "      <th>...</th>\n",
       "      <td>...</td>\n",
       "      <td>...</td>\n",
       "      <td>...</td>\n",
       "      <td>...</td>\n",
       "      <td>...</td>\n",
       "      <td>...</td>\n",
       "      <td>...</td>\n",
       "      <td>...</td>\n",
       "      <td>...</td>\n",
       "      <td>...</td>\n",
       "    </tr>\n",
       "    <tr>\n",
       "      <th>173273</th>\n",
       "      <td>False</td>\n",
       "      <td>False</td>\n",
       "      <td>False</td>\n",
       "      <td>False</td>\n",
       "      <td>False</td>\n",
       "      <td>False</td>\n",
       "      <td>False</td>\n",
       "      <td>False</td>\n",
       "      <td>False</td>\n",
       "      <td>False</td>\n",
       "    </tr>\n",
       "    <tr>\n",
       "      <th>173274</th>\n",
       "      <td>False</td>\n",
       "      <td>False</td>\n",
       "      <td>False</td>\n",
       "      <td>False</td>\n",
       "      <td>False</td>\n",
       "      <td>False</td>\n",
       "      <td>False</td>\n",
       "      <td>False</td>\n",
       "      <td>False</td>\n",
       "      <td>False</td>\n",
       "    </tr>\n",
       "    <tr>\n",
       "      <th>173275</th>\n",
       "      <td>True</td>\n",
       "      <td>True</td>\n",
       "      <td>False</td>\n",
       "      <td>False</td>\n",
       "      <td>False</td>\n",
       "      <td>False</td>\n",
       "      <td>False</td>\n",
       "      <td>False</td>\n",
       "      <td>True</td>\n",
       "      <td>True</td>\n",
       "    </tr>\n",
       "    <tr>\n",
       "      <th>173276</th>\n",
       "      <td>True</td>\n",
       "      <td>True</td>\n",
       "      <td>False</td>\n",
       "      <td>False</td>\n",
       "      <td>False</td>\n",
       "      <td>False</td>\n",
       "      <td>False</td>\n",
       "      <td>False</td>\n",
       "      <td>False</td>\n",
       "      <td>False</td>\n",
       "    </tr>\n",
       "    <tr>\n",
       "      <th>173277</th>\n",
       "      <td>True</td>\n",
       "      <td>False</td>\n",
       "      <td>False</td>\n",
       "      <td>False</td>\n",
       "      <td>False</td>\n",
       "      <td>False</td>\n",
       "      <td>False</td>\n",
       "      <td>False</td>\n",
       "      <td>False</td>\n",
       "      <td>False</td>\n",
       "    </tr>\n",
       "  </tbody>\n",
       "</table>\n",
       "<p>173278 rows × 10 columns</p>\n",
       "</div>"
      ],
      "text/plain": [
       "         salt  pepper  oregano   sage  parsley  rosemary  tarragon  thyme  \\\n",
       "0       False   False    False   True    False     False     False  False   \n",
       "1       False   False    False  False    False     False     False  False   \n",
       "2        True    True    False  False    False     False     False  False   \n",
       "3       False   False    False  False    False     False     False  False   \n",
       "4       False   False    False  False    False     False     False  False   \n",
       "...       ...     ...      ...    ...      ...       ...       ...    ...   \n",
       "173273  False   False    False  False    False     False     False  False   \n",
       "173274  False   False    False  False    False     False     False  False   \n",
       "173275   True    True    False  False    False     False     False  False   \n",
       "173276   True    True    False  False    False     False     False  False   \n",
       "173277   True   False    False  False    False     False     False  False   \n",
       "\n",
       "        paprika  cumin  \n",
       "0         False  False  \n",
       "1         False  False  \n",
       "2         False   True  \n",
       "3         False  False  \n",
       "4         False  False  \n",
       "...         ...    ...  \n",
       "173273    False  False  \n",
       "173274    False  False  \n",
       "173275     True   True  \n",
       "173276    False  False  \n",
       "173277    False  False  \n",
       "\n",
       "[173278 rows x 10 columns]"
      ]
     },
     "execution_count": 53,
     "metadata": {},
     "output_type": "execute_result"
    }
   ],
   "source": [
    "spice_df"
   ]
  },
  {
   "cell_type": "code",
   "execution_count": 56,
   "metadata": {},
   "outputs": [
    {
     "data": {
      "text/plain": [
       "10"
      ]
     },
     "execution_count": 56,
     "metadata": {},
     "output_type": "execute_result"
    }
   ],
   "source": [
    "selection = spice_df.query('parsley & paprika & tarragon')\n",
    "len(selection)"
   ]
  },
  {
   "cell_type": "code",
   "execution_count": 57,
   "metadata": {},
   "outputs": [
    {
     "data": {
      "text/plain": [
       "2069      All cremat with a Little Gem, dandelion and wa...\n",
       "74964                         Lobster with Thermidor butter\n",
       "93768      Burton's Southern Fried Chicken with White Gravy\n",
       "113926                     Mijo's Slow Cooker Shredded Beef\n",
       "137686                     Asparagus Soup with Poached Eggs\n",
       "140530                                 Fried Oyster Po’boys\n",
       "158475                Lamb shank tagine with herb tabbouleh\n",
       "158486                 Southern fried chicken in buttermilk\n",
       "163175            Fried Chicken Sliders with Pickles + Slaw\n",
       "165243                        Bar Tartine Cauliflower Salad\n",
       "Name: name, dtype: object"
      ]
     },
     "execution_count": 57,
     "metadata": {},
     "output_type": "execute_result"
    }
   ],
   "source": [
    "recipes.name[selection.index]"
   ]
  },
  {
   "cell_type": "code",
   "execution_count": null,
   "metadata": {},
   "outputs": [],
   "source": []
  }
 ],
 "metadata": {
  "interpreter": {
   "hash": "fc7fb2a0dcd8e8993a40ec0e200c63337ae4084d3c54c40b15481d8cd6124813"
  },
  "kernelspec": {
   "display_name": "Python 3.7.10 64-bit ('tf21g': conda)",
   "language": "python",
   "name": "python3"
  },
  "language_info": {
   "codemirror_mode": {
    "name": "ipython",
    "version": 3
   },
   "file_extension": ".py",
   "mimetype": "text/x-python",
   "name": "python",
   "nbconvert_exporter": "python",
   "pygments_lexer": "ipython3",
   "version": "3.7.10"
  },
  "orig_nbformat": 4
 },
 "nbformat": 4,
 "nbformat_minor": 2
}
